{
 "cells": [
  {
   "cell_type": "markdown",
   "metadata": {},
   "source": [
    "# Part 1"
   ]
  },
  {
   "cell_type": "code",
   "execution_count": 14,
   "metadata": {},
   "outputs": [
    {
     "data": {
      "text/plain": [
       "1275"
      ]
     },
     "execution_count": 14,
     "metadata": {},
     "output_type": "execute_result"
    }
   ],
   "source": [
    "n = range(51)\n",
    "sum(n)"
   ]
  },
  {
   "cell_type": "code",
   "execution_count": 18,
   "metadata": {},
   "outputs": [
    {
     "name": "stdout",
     "output_type": "stream",
     "text": [
      "2002,2009,2016,2023,2037,2044,2051,2058,2072,2079,2086,2093,2107,2114,2121,2128,2142,2149,2156,2163,2177,2184,2191,2198,2212,2219,2226,2233,2247,2254,2261,2268,2282,2289,2296,2303,2317,2324,2331,2338,2352,2359,2366,2373,2387,2394,2401,2408,2422,2429,2436,2443,2457,2464,2471,2478,2492,2499,2506,2513,2527,2534,2541,2548,2562,2569,2576,2583,2597,2604,2611,2618,2632,2639,2646,2653,2667,2674,2681,2688,2702,2709,2716,2723,2737,2744,2751,2758,2772,2779,2786,2793,2807,2814,2821,2828,2842,2849,2856,2863,2877,2884,2891,2898,2912,2919,2926,2933,2947,2954,2961,2968,2982,2989,2996,3003,3017,3024,3031,3038,3052,3059,3066,3073,3087,3094,3101,3108,3122,3129,3136,3143,3157,3164,3171,3178,3192,3199\n"
     ]
    }
   ],
   "source": [
    "a = []\n",
    "for i in range(2000,3200):\n",
    "    if (i%7==0) and not(i%5==0):\n",
    "        a.append(str(i))\n",
    "print(','.join(a))"
   ]
  },
  {
   "cell_type": "code",
   "execution_count": 40,
   "metadata": {},
   "outputs": [
    {
     "name": "stdout",
     "output_type": "stream",
     "text": [
      "Please enter your first name Prakhar\n",
      "Please enter your last name Mishra\n"
     ]
    },
    {
     "data": {
      "text/plain": [
       "'My name is Mishra Prakhar'"
      ]
     },
     "execution_count": 40,
     "metadata": {},
     "output_type": "execute_result"
    }
   ],
   "source": [
    "a = input('Please enter your first name ')\n",
    "b = input('Please enter your last name ')\n",
    "'My name is {} {}'.format(b,a)"
   ]
  },
  {
   "cell_type": "code",
   "execution_count": 15,
   "metadata": {},
   "outputs": [
    {
     "name": "stdout",
     "output_type": "stream",
     "text": [
      "The volume of the sphere: 7234.5599999999995\n"
     ]
    }
   ],
   "source": [
    "pi = 3.14\n",
    "r = 12\n",
    "V = 4/3*pi*r**3\n",
    "print(\"The volume of the sphere:\",V)"
   ]
  },
  {
   "cell_type": "markdown",
   "metadata": {},
   "source": [
    "# Part 2"
   ]
  },
  {
   "cell_type": "code",
   "execution_count": 39,
   "metadata": {},
   "outputs": [
    {
     "name": "stdout",
     "output_type": "stream",
     "text": [
      "Enter the first number:3\n",
      "Enter the second number:4\n",
      "Enter the third number:5\n",
      "Enter the fourth number:6\n",
      "[['3'], ['4'], ['5'], ['6']]\n"
     ]
    }
   ],
   "source": [
    "n1 = input(\"Enter the first number:\")\n",
    "n2 = input(\"Enter the second number:\")\n",
    "n3 = input(\"Enter the third number:\")\n",
    "n4 = input(\"Enter the fourth number:\")\n",
    "a = n1.split(','),n2.split(','),n3.split(','),n4.split(',')\n",
    "l = list(a)    \n",
    "print(l)"
   ]
  },
  {
   "cell_type": "code",
   "execution_count": 19,
   "metadata": {},
   "outputs": [
    {
     "name": "stdout",
     "output_type": "stream",
     "text": [
      "\n",
      "*\n",
      "**\n",
      "***\n",
      "****\n",
      "*****\n",
      "****\n",
      "***\n",
      "**\n",
      "*\n"
     ]
    }
   ],
   "source": [
    "n=5;\n",
    "for i in range(n):\n",
    "    for j in range(i):\n",
    "        print('*', end=\"\")\n",
    "    print('')\n",
    "for i in range(n,0,-1):\n",
    "    for j in range(i):\n",
    "        print('*', end=\"\")\n",
    "    print('')            "
   ]
  },
  {
   "cell_type": "code",
   "execution_count": 1,
   "metadata": {},
   "outputs": [
    {
     "name": "stdout",
     "output_type": "stream",
     "text": [
      "Enter a word:cat\n"
     ]
    },
    {
     "data": {
      "text/plain": [
       "'tac'"
      ]
     },
     "execution_count": 1,
     "metadata": {},
     "output_type": "execute_result"
    }
   ],
   "source": [
    "a = str(input(\"Enter a word:\"))\n",
    "a[::-1]"
   ]
  },
  {
   "cell_type": "code",
   "execution_count": 6,
   "metadata": {},
   "outputs": [
    {
     "name": "stdout",
     "output_type": "stream",
     "text": [
      "input_sentence : WE, THE PEOPLE OF INDIA, having solemnly resolved to constitute India into a SOVEREIGN, SOCIALIST, SECULAR, DEMOCRATIC REPUBLIC and to secure to all its citizens\n",
      "\n",
      "\n",
      "\n",
      "Formatted sentence : WE, THE PEOPLE OF INDIA,\n",
      "having solemnly resolved to constitute India into a SOVEREIGN, !\n",
      "SOCIALIST, SECULAR, DEMOCRATIC REPUBLIC \n",
      "and to secure to all its citizens\n"
     ]
    }
   ],
   "source": [
    "input_sentence = \"WE, THE PEOPLE OF INDIA, having solemnly resolved to constitute India into a SOVEREIGN, SOCIALIST, SECULAR, DEMOCRATIC REPUBLIC and to secure to all its citizens\"\n",
    "print (\"input_sentence : \" + input_sentence)\n",
    "print (\"\\n\\n\")\n",
    "formatted_sentence = input_sentence.replace(\"INDIA, \", \"INDIA,\\n\").replace(\"SOVEREIGN, \", \"SOVEREIGN, !\\n\").replace(\"REPUBLIC \", \"REPUBLIC \\n\") \n",
    "print (\"Formatted sentence : \" + formatted_sentence)"
   ]
  }
 ],
 "metadata": {
  "kernelspec": {
   "display_name": "Python 3",
   "language": "python",
   "name": "python3"
  },
  "language_info": {
   "codemirror_mode": {
    "name": "ipython",
    "version": 3
   },
   "file_extension": ".py",
   "mimetype": "text/x-python",
   "name": "python",
   "nbconvert_exporter": "python",
   "pygments_lexer": "ipython3",
   "version": "3.7.4"
  }
 },
 "nbformat": 4,
 "nbformat_minor": 2
}
